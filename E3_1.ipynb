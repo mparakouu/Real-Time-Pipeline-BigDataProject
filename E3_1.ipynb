{
 "cells": [
  {
   "cell_type": "code",
   "execution_count": 13,
   "id": "9bdd1a84-9372-4ef4-a369-d9b40698a7c0",
   "metadata": {},
   "outputs": [],
   "source": [
    "from pymongo import MongoClient"
   ]
  },
  {
   "cell_type": "code",
   "execution_count": 14,
   "id": "ec635769-ecc8-440e-b6ce-4bc32bcc18c0",
   "metadata": {},
   "outputs": [],
   "source": [
    "# Σύνδεση στη MongoDB\n",
    "client = MongoClient('localhost', 27017)\n",
    "db = client['MyVehiclesData']\n",
    "collection = db['ProcessedVehiclesData']"
   ]
  },
  {
   "cell_type": "code",
   "execution_count": 15,
   "id": "dabca19e-6b04-4775-b42c-3d565cdd855c",
   "metadata": {},
   "outputs": [],
   "source": [
    "start_time = \"2024-05-01 00:00:00\"\n",
    "end_time = \"2024-05-10 23:59:59\""
   ]
  },
  {
   "cell_type": "code",
   "execution_count": 16,
   "id": "2bb08b5b-6cef-4a9a-8424-1a00ad34483b",
   "metadata": {},
   "outputs": [],
   "source": [
    "pipeline = [\n",
    "    {\"$match\": {\"Time\": {\"$gte\": start_time, \"$lte\": end_time}}},\n",
    "    {\"$sort\": {\"vcount\": 1}},\n",
    "    {\"$limit\": 1}\n",
    "]"
   ]
  },
  {
   "cell_type": "code",
   "execution_count": 17,
   "id": "49954f8a-bc0d-48e1-88fe-54e5cf03f318",
   "metadata": {},
   "outputs": [],
   "source": [
    "result = collection.aggregate(pipeline)"
   ]
  },
  {
   "cell_type": "code",
   "execution_count": 18,
   "id": "b4858148-5dd1-4524-a206-1fb8b64d22b7",
   "metadata": {},
   "outputs": [
    {
     "name": "stdout",
     "output_type": "stream",
     "text": [
      "Η ακμή με το μικρότερο πλήθος οχημάτων είναι:\n",
      "{'_id': ObjectId('663c9734c4f83968b6737f5b'), 'link': 'I1S1', 'vcount': 1, 'vspeed': 20.0, 'Time': '2024-05-09 12:28:34'}\n"
     ]
    }
   ],
   "source": [
    "\n",
    "for doc in result:\n",
    "    print(\"Η ακμή με το μικρότερο πλήθος οχημάτων είναι:\")\n",
    "    print(doc)"
   ]
  },
  {
   "cell_type": "code",
   "execution_count": null,
   "id": "a14bd2fd-b599-4785-a92b-18bde09723c5",
   "metadata": {},
   "outputs": [],
   "source": []
  }
 ],
 "metadata": {
  "kernelspec": {
   "display_name": "Python 3 (ipykernel)",
   "language": "python",
   "name": "python3"
  },
  "language_info": {
   "codemirror_mode": {
    "name": "ipython",
    "version": 3
   },
   "file_extension": ".py",
   "mimetype": "text/x-python",
   "name": "python",
   "nbconvert_exporter": "python",
   "pygments_lexer": "ipython3",
   "version": "3.11.3"
  }
 },
 "nbformat": 4,
 "nbformat_minor": 5
}
