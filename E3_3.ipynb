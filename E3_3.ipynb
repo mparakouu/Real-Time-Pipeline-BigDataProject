{
 "cells": [
  {
   "cell_type": "code",
   "execution_count": 7,
   "id": "b71bafe2-bc01-4a2c-8ee0-a9588f2b4084",
   "metadata": {},
   "outputs": [],
   "source": [
    "from pymongo import MongoClient"
   ]
  },
  {
   "cell_type": "code",
   "execution_count": 8,
   "id": "f2c09e71-eb31-428e-a1e7-040b8a267ec1",
   "metadata": {},
   "outputs": [],
   "source": [
    "client = MongoClient('localhost', 27017)\n",
    "db = client['MyVehiclesData']\n",
    "collection3 = db['ProcessedVehiclesData']"
   ]
  },
  {
   "cell_type": "code",
   "execution_count": 9,
   "id": "1fba62b8-f87d-4bbe-a98a-3a163cd992d6",
   "metadata": {},
   "outputs": [],
   "source": [
    "starttime = \"2024-05-01 00:00:00\"\n",
    "endtime = \"2024-05-07 23:59:59\""
   ]
  },
  {
   "cell_type": "code",
   "execution_count": 10,
   "id": "c9755dc7-bec9-4edf-aa83-facd9565c839",
   "metadata": {},
   "outputs": [],
   "source": [
    "result3 = collection3.find_one({\"Time\": {\"$gte\": starttime, \"$lte\": endtime}}, sort=[(\"vcount\", -1)])"
   ]
  },
  {
   "cell_type": "code",
   "execution_count": 11,
   "id": "fd83dbad-c473-4881-9e6e-bc9c394d09c6",
   "metadata": {},
   "outputs": [
    {
     "name": "stdout",
     "output_type": "stream",
     "text": [
      "Η μεγαλύτερη διαδρομή στην ακμή/link:\n",
      "Ακμή/link: N1I1\n",
      "Το πλήθος οχημάτων: 653\n"
     ]
    }
   ],
   "source": [
    "if result3:\n",
    "    print(\"Η μεγαλύτερη διαδρομή στην ακμή/link:\")\n",
    "    print(\"Ακμή/link:\", result3[\"link\"])\n",
    "    print(\"Το πλήθος οχημάτων:\", result3[\"vcount\"])\n",
    "else:\n",
    "    print(\"Δεν βρέθηκαν δεδομένα για αυτην την περίοδο.\")"
   ]
  },
  {
   "cell_type": "code",
   "execution_count": null,
   "id": "7a0520a6-6b35-40c1-aad8-964ecf79ffba",
   "metadata": {},
   "outputs": [],
   "source": []
  }
 ],
 "metadata": {
  "kernelspec": {
   "display_name": "Python 3 (ipykernel)",
   "language": "python",
   "name": "python3"
  },
  "language_info": {
   "codemirror_mode": {
    "name": "ipython",
    "version": 3
   },
   "file_extension": ".py",
   "mimetype": "text/x-python",
   "name": "python",
   "nbconvert_exporter": "python",
   "pygments_lexer": "ipython3",
   "version": "3.11.3"
  }
 },
 "nbformat": 4,
 "nbformat_minor": 5
}
