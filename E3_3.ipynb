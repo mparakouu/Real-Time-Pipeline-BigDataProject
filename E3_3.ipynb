{
 "cells": [
  {
   "cell_type": "code",
   "execution_count": 1,
   "id": "b71bafe2-bc01-4a2c-8ee0-a9588f2b4084",
   "metadata": {},
   "outputs": [],
   "source": [
    "from pymongo import MongoClient\n",
    "from datetime import datetime"
   ]
  },
  {
   "cell_type": "code",
   "execution_count": 2,
   "id": "f2c09e71-eb31-428e-a1e7-040b8a267ec1",
   "metadata": {},
   "outputs": [],
   "source": [
    "client = MongoClient('localhost', 27017)\n",
    "db = client['MyVehiclesData']\n",
    "collection3 = db['RawVehiclesData']"
   ]
  },
  {
   "cell_type": "code",
   "execution_count": 3,
   "id": "1fba62b8-f87d-4bbe-a98a-3a163cd992d6",
   "metadata": {},
   "outputs": [],
   "source": [
    "start_time = datetime.strptime(\"2024-05-08 00:00:00\", \"%Y-%m-%d %H:%M:%S\")\n",
    "end_time = datetime.strptime(\"2024-05-09 23:59:59\", \"%Y-%m-%d %H:%M:%S\")"
   ]
  },
  {
   "cell_type": "code",
   "execution_count": 4,
   "id": "fd83dbad-c473-4881-9e6e-bc9c394d09c6",
   "metadata": {},
   "outputs": [],
   "source": [
    "pipeline3 = [\n",
    "    {\"$match\": {\"time\": {\"$gte\": start_time, \"$lte\": end_time}}},\n",
    "    {\"$sort\": {\"time\": 1}},\n",
    "    {\"$group\": {\n",
    "        \"_id\": \"$oid\",\n",
    "        \"start_time\": {\"$first\": \"$time\"},\n",
    "        \"end_time\": {\"$last\": \"$time\"},\n",
    "        \"name\": {\"$last\": \"$name\"}\n",
    "    }},\n",
    "    {\"$match\": {\"name\": {\"$ne\": {\"$first\": \"$name\"}}}},\n",
    "    {\"$addFields\": {\n",
    "        \"duration\": {\"$toDouble\": {\"$subtract\": [\"$end_time\", \"$start_time\"]}}\n",
    "    }},\n",
    "    {\"$sort\": {\"duration\": -1}},\n",
    "    {\"$limit\": 1}\n",
    "]\n"
   ]
  },
  {
   "cell_type": "code",
   "execution_count": 5,
   "id": "7a0520a6-6b35-40c1-aad8-964ecf79ffba",
   "metadata": {},
   "outputs": [],
   "source": [
    "result3 = collection3.aggregate(pipeline3)"
   ]
  },
  {
   "cell_type": "code",
   "execution_count": 6,
   "id": "98c4e4ca-4d71-4074-8ce5-3ad29addafda",
   "metadata": {},
   "outputs": [],
   "source": [
    "for doc in result3:\n",
    "    print(\"Το ταξίδι με τη μεγαλύτερη διάρκεια είναι:\")\n",
    "    print(doc)"
   ]
  },
  {
   "cell_type": "code",
   "execution_count": null,
   "id": "7d05e3ad-6db9-4d5f-ab26-264d2a42db87",
   "metadata": {},
   "outputs": [],
   "source": []
  },
  {
   "cell_type": "code",
   "execution_count": null,
   "id": "cd25266f-3fcc-4fd2-994a-a5424b8d9552",
   "metadata": {},
   "outputs": [],
   "source": []
  }
 ],
 "metadata": {
  "kernelspec": {
   "display_name": "Python 3 (ipykernel)",
   "language": "python",
   "name": "python3"
  },
  "language_info": {
   "codemirror_mode": {
    "name": "ipython",
    "version": 3
   },
   "file_extension": ".py",
   "mimetype": "text/x-python",
   "name": "python",
   "nbconvert_exporter": "python",
   "pygments_lexer": "ipython3",
   "version": "3.11.3"
  }
 },
 "nbformat": 4,
 "nbformat_minor": 5
}
