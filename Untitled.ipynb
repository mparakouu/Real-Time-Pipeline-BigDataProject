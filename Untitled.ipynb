{
 "cells": [
  {
   "cell_type": "code",
   "execution_count": null,
   "id": "6be9b896",
   "metadata": {},
   "outputs": [],
   "source": [
    "# Κελί 1: Δημιουργία του SparkSession\n",
    "from pyspark.sql import SparkSession\n",
    "\n",
    "spark_session = SparkSession.builder \\\n",
    "    .appName(\"VehiclesDataFromKafka\") \\\n",
    "    .getOrCreate()\n"
   ]
  },
  {
   "cell_type": "code",
   "execution_count": null,
   "id": "e18b21ed",
   "metadata": {},
   "outputs": [],
   "source": [
    "# Κελί 2: Ορισμός της δομής των JSON δεδομένων\n",
    "from pyspark.sql.types import StructType, StringType, FloatType\n",
    "\n",
    "json_schema = StructType() \\\n",
    "    .add(\"name\", StringType()) \\\n",
    "    .add(\"orig\", StringType()) \\\n",
    "    .add(\"dest\", StringType()) \\\n",
    "    .add(\"time\", StringType()) \\\n",
    "    .add(\"link\", StringType()) \\\n",
    "    .add(\"position\", FloatType()) \\\n",
    "    .add(\"spacing\", FloatType()) \\\n",
    "    .add(\"speed\", FloatType())\n"
   ]
  },
  {
   "cell_type": "code",
   "execution_count": null,
   "id": "e28c2df9",
   "metadata": {},
   "outputs": [],
   "source": [
    "# Κελί 3: Διάβασμα των JSON δεδομένων από το Kafka\n",
    "dataframe_kafka = spark_session \\\n",
    "    .readStream \\\n",
    "    .format(\"kafka\") \\\n",
    "    .option(\"kafka.bootstrap.servers\", \"localhost:9092\") \\\n",
    "    .option(\"subscribe\", \"vehicle_positions\") \\\n",
    "    .option(\"startingOffsets\", \"earliest\") \\\n",
    "    .option(\"logLevel\", \"ERROR\") \\\n",
    "    .load()\n"
   ]
  },
  {
   "cell_type": "code",
   "execution_count": null,
   "id": "9c06ad24",
   "metadata": {},
   "outputs": [],
   "source": [
    "# Κελί 4: Μετατροπή των JSON δεδομένων σε DataFrame\n",
    "from pyspark.sql.functions import from_json, col\n",
    "\n",
    "json_to_dataframe = dataframe_kafka.selectExpr(\"CAST(value AS STRING)\") \\\n",
    "    .select(from_json(\"value\", json_schema).alias(\"data\")) \\\n",
    "    .select(\n",
    "        col(\"data.link\").alias(\"link\"),\n",
    "        col(\"data.time\").alias(\"time\"),\n",
    "        col(\"data.speed\").alias(\"speed\")\n",
    "    )   \n"
   ]
  },
  {
   "cell_type": "code",
   "execution_count": null,
   "id": "71a8a804",
   "metadata": {},
   "outputs": [],
   "source": [
    "# Κελί 5: Ορισμός συνάρτησης για αποθήκευση των δεδομένων στη MongoDB\n",
    "def save_to_mongodb(batch_df, epoch_id):\n",
    "    batch_df.write \\\n",
    "        .format(\"mongo\") \\\n",
    "        .mode(\"overwrite\") \\\n",
    "        .option(\"database\", \"MyVehiclesData\") \\\n",
    "        .option(\"collection\", \"vehiclesData\") \\\n",
    "        .option(\"uri\", \"mongodb://localhost:27017\") \\\n",
    "        .save()"
   ]
  },
  {
   "cell_type": "code",
   "execution_count": null,
   "id": "e81f8913",
   "metadata": {},
   "outputs": [],
   "source": [
    "# Κελί 6: Εκκίνηση της επεξεργασίας streaming και αποθήκευση των δεδομένων στη MongoDB\n",
    "selected_data_stream = json_to_dataframe \\\n",
    "    .writeStream \\\n",
    "    .foreachBatch(save_to_mongodb) \\\n",
    "    .outputMode(\"append\") \\\n",
    "    .start()\n",
    "\n",
    "selected_data_stream.awaitTermination()"
   ]
  },
  {
   "cell_type": "code",
   "execution_count": null,
   "id": "9ce0b833",
   "metadata": {},
   "outputs": [],
   "source": [
    "# Εμφάνιση του DataFrame\n",
    "json_to_dataframe.show()\n"
   ]
  },
  {
   "cell_type": "code",
   "execution_count": null,
   "id": "e4d8f0d2",
   "metadata": {},
   "outputs": [],
   "source": []
  }
 ],
 "metadata": {
  "kernelspec": {
   "display_name": "Python 3 (ipykernel)",
   "language": "python",
   "name": "python3"
  },
  "language_info": {
   "codemirror_mode": {
    "name": "ipython",
    "version": 3
   },
   "file_extension": ".py",
   "mimetype": "text/x-python",
   "name": "python",
   "nbconvert_exporter": "python",
   "pygments_lexer": "ipython3",
   "version": "3.12.3"
  }
 },
 "nbformat": 4,
 "nbformat_minor": 5
}
