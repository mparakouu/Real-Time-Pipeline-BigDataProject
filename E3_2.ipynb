{
 "cells": [
  {
   "cell_type": "code",
   "execution_count": 77,
   "id": "757472cf-a31a-435f-87ba-61f6637d8028",
   "metadata": {},
   "outputs": [],
   "source": [
    "from pymongo import MongoClient\n"
   ]
  },
  {
   "cell_type": "code",
   "execution_count": 78,
   "id": "497cff50-f2e1-46f2-941b-836af74cecac",
   "metadata": {},
   "outputs": [],
   "source": [
    "client = MongoClient('localhost', 27017)\n",
    "db = client['MyVehiclesData']\n",
    "collection1 = db['ProcessedVehiclesData']"
   ]
  },
  {
   "cell_type": "code",
   "execution_count": 79,
   "id": "1f020281-7d19-48ca-a10f-8e6b93cf4f7f",
   "metadata": {},
   "outputs": [],
   "source": [
    "start_time = \"2020-05-01 00:00:00\"\n",
    "end_time = \"2024-10-07 23:59:59\""
   ]
  },
  {
   "cell_type": "code",
   "execution_count": 80,
   "id": "a9eed890-8018-426b-8b21-627de91eda40",
   "metadata": {},
   "outputs": [],
   "source": [
    "pipeline1 = [\n",
    "    {\"$match\": {\"Time\": {\"$gte\": start_time, \"$lte\": end_time}}},\n",
    "    {\"$group\": {\n",
    "        \"_id\": {\n",
    "            \"oid\": \"$_id\", \n",
    "            \"link\": \"$link\"\n",
    "        }, \n",
    "        \"vspeed\": {\n",
    "            \"$avg\": \"$vspeed\"\n",
    "        }\n",
    "    }\n",
    "    },\n",
    "    {\"$sort\": {\n",
    "        \"vspeed\": -1\n",
    "    }\n",
    "    },\n",
    "    {\"$limit\": 1}\n",
    "]\n"
   ]
  },
  {
   "cell_type": "code",
   "execution_count": 81,
   "id": "545966ed-b170-4231-bdf5-0d3c9ce9346d",
   "metadata": {},
   "outputs": [],
   "source": [
    "result1 = collection1.aggregate(pipeline1)"
   ]
  },
  {
   "cell_type": "code",
   "execution_count": 82,
   "id": "982159ad-b662-4b4f-b759-e082d95c3872",
   "metadata": {},
   "outputs": [
    {
     "name": "stdout",
     "output_type": "stream",
     "text": [
      "Η ακμή/link με τη μεγαλύτερη μέση ταχύτητα/vspeed είναι:\n",
      "{'_id': {'oid': ObjectId('667e8308ce2f992f9297d8d7'), 'link': 'N1I1'}, 'vspeed': 28.571428571428573}\n"
     ]
    }
   ],
   "source": [
    "for doc in result1:\n",
    "    print(\"Η ακμή/link με τη μεγαλύτερη μέση ταχύτητα/vspeed είναι:\")\n",
    "    print(doc)"
   ]
  },
  {
   "cell_type": "code",
   "execution_count": null,
   "id": "f3dfa5eb-a9ee-48b9-8c93-8e7a79c74200",
   "metadata": {},
   "outputs": [],
   "source": []
  },
  {
   "cell_type": "code",
   "execution_count": null,
   "id": "fd045b0c-fd6d-4d89-8d14-f6db2f79f934",
   "metadata": {},
   "outputs": [],
   "source": []
  }
 ],
 "metadata": {
  "kernelspec": {
   "display_name": "Python 3 (ipykernel)",
   "language": "python",
   "name": "python3"
  },
  "language_info": {
   "codemirror_mode": {
    "name": "ipython",
    "version": 3
   },
   "file_extension": ".py",
   "mimetype": "text/x-python",
   "name": "python",
   "nbconvert_exporter": "python",
   "pygments_lexer": "ipython3",
   "version": "3.11.3"
  }
 },
 "nbformat": 4,
 "nbformat_minor": 5
}
