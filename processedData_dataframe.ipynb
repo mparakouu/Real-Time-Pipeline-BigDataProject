{
 "cells": [
  {
   "cell_type": "code",
   "execution_count": 1,
   "id": "fd300c35-960d-4ef8-98c5-f0153839ba37",
   "metadata": {},
   "outputs": [],
   "source": [
    "import findspark\n",
    "findspark.init()"
   ]
  },
  {
   "cell_type": "code",
   "execution_count": 2,
   "id": "ff622705-90e7-446a-891a-08213ccd22eb",
   "metadata": {},
   "outputs": [],
   "source": [
    "from pyspark.sql import SparkSession"
   ]
  },
  {
   "cell_type": "code",
   "execution_count": 3,
   "id": "42e172b2-8699-4d3f-82ca-7d03f28612b2",
   "metadata": {},
   "outputs": [
    {
     "name": "stdout",
     "output_type": "stream",
     "text": [
      ":: loading settings :: url = jar:file:/Library/Frameworks/Python.framework/Versions/3.11/lib/python3.11/site-packages/pyspark/jars/ivy-2.5.1.jar!/org/apache/ivy/core/settings/ivysettings.xml\n"
     ]
    },
    {
     "name": "stderr",
     "output_type": "stream",
     "text": [
      "Ivy Default Cache set to: /Users/georgiamparakou/.ivy2/cache\n",
      "The jars for the packages stored in: /Users/georgiamparakou/.ivy2/jars\n",
      "org.mongodb.spark#mongo-spark-connector_2.12 added as a dependency\n",
      ":: resolving dependencies :: org.apache.spark#spark-submit-parent-e3f20b8a-5e89-49d0-9fcf-524c1dfd5662;1.0\n",
      "\tconfs: [default]\n",
      "\tfound org.mongodb.spark#mongo-spark-connector_2.12;3.0.1 in central\n",
      "\tfound org.mongodb#mongodb-driver-sync;4.0.5 in central\n",
      "\tfound org.mongodb#bson;4.0.5 in central\n",
      "\tfound org.mongodb#mongodb-driver-core;4.0.5 in central\n",
      ":: resolution report :: resolve 100ms :: artifacts dl 4ms\n",
      "\t:: modules in use:\n",
      "\torg.mongodb#bson;4.0.5 from central in [default]\n",
      "\torg.mongodb#mongodb-driver-core;4.0.5 from central in [default]\n",
      "\torg.mongodb#mongodb-driver-sync;4.0.5 from central in [default]\n",
      "\torg.mongodb.spark#mongo-spark-connector_2.12;3.0.1 from central in [default]\n",
      "\t---------------------------------------------------------------------\n",
      "\t|                  |            modules            ||   artifacts   |\n",
      "\t|       conf       | number| search|dwnlded|evicted|| number|dwnlded|\n",
      "\t---------------------------------------------------------------------\n",
      "\t|      default     |   4   |   0   |   0   |   0   ||   4   |   0   |\n",
      "\t---------------------------------------------------------------------\n",
      ":: retrieving :: org.apache.spark#spark-submit-parent-e3f20b8a-5e89-49d0-9fcf-524c1dfd5662\n",
      "\tconfs: [default]\n",
      "\t0 artifacts copied, 4 already retrieved (0kB/3ms)\n",
      "24/06/28 17:32:58 WARN NativeCodeLoader: Unable to load native-hadoop library for your platform... using builtin-java classes where applicable\n",
      "Setting default log level to \"WARN\".\n",
      "To adjust logging level use sc.setLogLevel(newLevel). For SparkR, use setLogLevel(newLevel).\n",
      "24/06/28 17:32:59 WARN Utils: Service 'SparkUI' could not bind on port 4040. Attempting port 4041.\n",
      "24/06/28 17:32:59 WARN Utils: Service 'SparkUI' could not bind on port 4041. Attempting port 4042.\n"
     ]
    }
   ],
   "source": [
    "spark = SparkSession.builder \\\n",
    "    .appName(\"pyspark_notebook1\") \\\n",
    "    .master(\"local[*]\") \\\n",
    "    .config(\"spark.executor.memory\", \"1g\") \\\n",
    "    .config(\"spark.mongodb.input.uri\", \"mongodb://localhost:27017\") \\\n",
    "    .config(\"spark.mongodb.output.uri\", \"mongodb://localhost:27017\") \\\n",
    "    .config(\"spark.mongodb.input.database\", \"MyVehiclesData\") \\\n",
    "    .config(\"spark.mongodb.input.collection\", \"ProcessedVehiclesData\") \\\n",
    "    .config(\"spark.jars.packages\", \"org.mongodb.spark:mongo-spark-connector_2.12:3.0.1\") \\\n",
    "    .getOrCreate()"
   ]
  },
  {
   "cell_type": "code",
   "execution_count": 4,
   "id": "5d0d5c4a-ca00-499f-ae56-50f9259646f6",
   "metadata": {},
   "outputs": [],
   "source": [
    "from pyspark.sql.types import StructType, StructField, StringType, DoubleType, TimestampType, LongType"
   ]
  },
  {
   "cell_type": "code",
   "execution_count": 5,
   "id": "7616aade-eb16-4239-9577-3b0c2043acdd",
   "metadata": {},
   "outputs": [],
   "source": [
    "custom_schema1 = StructType([\n",
    "    StructField(\"_id\", StructType([StructField(\"oid\", StringType(), nullable=True)]), nullable=True),\n",
    "    StructField(\"link\", StringType(), nullable=True),\n",
    "    StructField(\"vcount\", LongType(), nullable=True),\n",
    "    StructField(\"vspeed\", DoubleType(), nullable=True),\n",
    "    StructField(\"Time\", TimestampType(), nullable=True)\n",
    "])"
   ]
  },
  {
   "cell_type": "code",
   "execution_count": 6,
   "id": "d31dc801-8d1b-4234-b4f1-1cc421c531a2",
   "metadata": {},
   "outputs": [],
   "source": [
    "df1 = spark.read.format(\"com.mongodb.spark.sql.DefaultSource\") \\\n",
    "            .option(\"uri\", \"mongodb://127.0.0.1:27017/MyVehiclesData.ProcessedVehiclesData\") \\\n",
    "            .load()\n"
   ]
  },
  {
   "cell_type": "code",
   "execution_count": 7,
   "id": "1265cfb7-b4b9-40ae-957e-943841a2543f",
   "metadata": {},
   "outputs": [
    {
     "name": "stdout",
     "output_type": "stream",
     "text": [
      "root\n",
      " |-- Time: string (nullable = true)\n",
      " |-- _id: struct (nullable = true)\n",
      " |    |-- oid: string (nullable = true)\n",
      " |-- link: string (nullable = true)\n",
      " |-- vcount: long (nullable = true)\n",
      " |-- vspeed: double (nullable = true)\n",
      "\n"
     ]
    }
   ],
   "source": [
    "df1.printSchema()"
   ]
  },
  {
   "cell_type": "code",
   "execution_count": 8,
   "id": "0d50269a-a744-4a46-871b-0dcef67e3d00",
   "metadata": {},
   "outputs": [],
   "source": [
    "from pyspark.sql.functions import col, to_timestamp"
   ]
  },
  {
   "cell_type": "code",
   "execution_count": 9,
   "id": "9fe87efb-aee0-4d5e-8562-bf7cf6dcc2af",
   "metadata": {},
   "outputs": [],
   "source": [
    "df1 = df1.withColumn(\"Τime\", to_timestamp(col(\"time\"), \"yyyy-MM-dd HH:mm:ss\"))"
   ]
  },
  {
   "cell_type": "code",
   "execution_count": 10,
   "id": "fb2fa079-6334-4ebf-bddf-c26d24a27451",
   "metadata": {},
   "outputs": [],
   "source": [
    "df1 = df1.select(\"_id.oid\", \"link\", \"vspeed\", \"vcount\", \"Time\")"
   ]
  },
  {
   "cell_type": "code",
   "execution_count": 11,
   "id": "2808e081-c47c-47d6-a397-8e6eb1bea1b3",
   "metadata": {},
   "outputs": [],
   "source": [
    "#df = df.dropDuplicates([\"_id.oid\", \"link\", \"vspeed\", \"vcount\", \"Time\"])"
   ]
  },
  {
   "cell_type": "code",
   "execution_count": 12,
   "id": "758ff4ce-698c-4171-862f-e8a7fbe4cf5b",
   "metadata": {},
   "outputs": [
    {
     "name": "stdout",
     "output_type": "stream",
     "text": [
      "+------------------------+--------+------------------+------+-------------------+\n",
      "|oid                     |link    |vspeed            |vcount|Time               |\n",
      "+------------------------+--------+------------------+------+-------------------+\n",
      "|667ec936e654e4743b5215e4|N1I1    |28.333333333333332|3     |2024-06-28 17:31:22|\n",
      "|667ec93ce654e4743b5215ea|I1S1    |15.0              |1     |2024-06-28 17:31:42|\n",
      "|667ec93ce654e4743b5215eb|N1I1    |28.75             |4     |2024-06-28 17:31:22|\n",
      "|667ec941e654e4743b5215f0|N1I1    |28.75             |4     |2024-06-28 17:31:22|\n",
      "|667ec941e654e4743b5215f1|I1S1    |22.5              |2     |2024-06-28 17:31:42|\n",
      "|667ec947e654e4743b5215f7|N1I1    |28.75             |4     |2024-06-28 17:31:22|\n",
      "|667ec947e654e4743b5215f6|I1S1    |25.0              |3     |2024-06-28 17:31:42|\n",
      "|667ec94de654e4743b5215fc|I1S1    |26.25             |4     |2024-06-28 17:31:42|\n",
      "|667ec94de654e4743b5215fd|trip_end|-1.0              |1     |2024-06-28 17:31:52|\n",
      "|667ec94de654e4743b5215fe|N1I1    |28.75             |4     |2024-06-28 17:31:22|\n",
      "+------------------------+--------+------------------+------+-------------------+\n",
      "\n"
     ]
    },
    {
     "name": "stderr",
     "output_type": "stream",
     "text": [
      "                                                                                \r"
     ]
    }
   ],
   "source": [
    "df1.show(20, truncate=False)"
   ]
  },
  {
   "cell_type": "code",
   "execution_count": null,
   "id": "2616d28e-afc7-4afd-a91f-0038e47dea65",
   "metadata": {},
   "outputs": [],
   "source": []
  },
  {
   "cell_type": "code",
   "execution_count": null,
   "id": "06bccf58-96fd-4f15-a885-148d0f93cc75",
   "metadata": {},
   "outputs": [],
   "source": []
  }
 ],
 "metadata": {
  "kernelspec": {
   "display_name": "Python 3 (ipykernel)",
   "language": "python",
   "name": "python3"
  },
  "language_info": {
   "codemirror_mode": {
    "name": "ipython",
    "version": 3
   },
   "file_extension": ".py",
   "mimetype": "text/x-python",
   "name": "python",
   "nbconvert_exporter": "python",
   "pygments_lexer": "ipython3",
   "version": "3.11.3"
  }
 },
 "nbformat": 4,
 "nbformat_minor": 5
}
