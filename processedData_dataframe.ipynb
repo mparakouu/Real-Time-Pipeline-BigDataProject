{
 "cells": [
  {
   "cell_type": "code",
   "execution_count": 24,
   "id": "fd300c35-960d-4ef8-98c5-f0153839ba37",
   "metadata": {},
   "outputs": [],
   "source": [
    "import findspark\n",
    "findspark.init()"
   ]
  },
  {
   "cell_type": "code",
   "execution_count": 25,
   "id": "ff622705-90e7-446a-891a-08213ccd22eb",
   "metadata": {},
   "outputs": [],
   "source": [
    "from pyspark.sql import SparkSession"
   ]
  },
  {
   "cell_type": "code",
   "execution_count": 26,
   "id": "42e172b2-8699-4d3f-82ca-7d03f28612b2",
   "metadata": {},
   "outputs": [],
   "source": [
    "spark = SparkSession.builder \\\n",
    "    .appName(\"pyspark_notebook1\") \\\n",
    "    .master(\"local[*]\") \\\n",
    "    .config(\"spark.executor.memory\", \"1g\") \\\n",
    "    .config(\"spark.mongodb.input.uri\", \"mongodb://localhost:27017\") \\\n",
    "    .config(\"spark.mongodb.output.uri\", \"mongodb://localhost:27017\") \\\n",
    "    .config(\"spark.mongodb.input.database\", \"MyVehiclesData\") \\\n",
    "    .config(\"spark.mongodb.input.collection\", \"ProcessedVehiclesData\") \\\n",
    "    .config(\"spark.jars.packages\", \"org.mongodb.spark:mongo-spark-connector_2.12:3.0.1\") \\\n",
    "    .getOrCreate()"
   ]
  },
  {
   "cell_type": "code",
   "execution_count": 27,
   "id": "5d0d5c4a-ca00-499f-ae56-50f9259646f6",
   "metadata": {},
   "outputs": [],
   "source": [
    "from pyspark.sql.types import StructType, StructField, StringType, DoubleType, TimestampType, LongType"
   ]
  },
  {
   "cell_type": "code",
   "execution_count": 28,
   "id": "7616aade-eb16-4239-9577-3b0c2043acdd",
   "metadata": {},
   "outputs": [],
   "source": [
    "custom_schema1 = StructType([\n",
    "    StructField(\"_id\", StructType([StructField(\"oid\", StringType(), nullable=True)]), nullable=True),\n",
    "    StructField(\"link\", StringType(), nullable=True),\n",
    "    StructField(\"vcount\", LongType(), nullable=True),\n",
    "    StructField(\"vspeed\", DoubleType(), nullable=True),\n",
    "    StructField(\"Time\", TimestampType(), nullable=True)\n",
    "])"
   ]
  },
  {
   "cell_type": "code",
   "execution_count": 29,
   "id": "d31dc801-8d1b-4234-b4f1-1cc421c531a2",
   "metadata": {},
   "outputs": [],
   "source": [
    "df1 = spark.read.format(\"com.mongodb.spark.sql.DefaultSource\") \\\n",
    "            .option(\"uri\", \"mongodb://127.0.0.1:27017/MyVehiclesData.ProcessedVehiclesData\") \\\n",
    "            .load()\n"
   ]
  },
  {
   "cell_type": "code",
   "execution_count": 30,
   "id": "1265cfb7-b4b9-40ae-957e-943841a2543f",
   "metadata": {},
   "outputs": [
    {
     "name": "stdout",
     "output_type": "stream",
     "text": [
      "root\n",
      " |-- Time: string (nullable = true)\n",
      " |-- _id: struct (nullable = true)\n",
      " |    |-- oid: string (nullable = true)\n",
      " |-- link: string (nullable = true)\n",
      " |-- vcount: long (nullable = true)\n",
      " |-- vspeed: double (nullable = true)\n",
      "\n"
     ]
    }
   ],
   "source": [
    "df1.printSchema()"
   ]
  },
  {
   "cell_type": "code",
   "execution_count": 31,
   "id": "0d50269a-a744-4a46-871b-0dcef67e3d00",
   "metadata": {},
   "outputs": [],
   "source": [
    "from pyspark.sql.functions import col, to_timestamp"
   ]
  },
  {
   "cell_type": "code",
   "execution_count": 32,
   "id": "9fe87efb-aee0-4d5e-8562-bf7cf6dcc2af",
   "metadata": {},
   "outputs": [],
   "source": [
    "df1 = df1.withColumn(\"Τime\", to_timestamp(col(\"time\"), \"yyyy-MM-dd HH:mm:ss\"))"
   ]
  },
  {
   "cell_type": "code",
   "execution_count": 33,
   "id": "fb2fa079-6334-4ebf-bddf-c26d24a27451",
   "metadata": {},
   "outputs": [],
   "source": [
    "df1 = df1.select(\"_id.oid\", \"link\", \"vspeed\", \"vcount\", \"Time\")"
   ]
  },
  {
   "cell_type": "code",
   "execution_count": 34,
   "id": "758ff4ce-698c-4171-862f-e8a7fbe4cf5b",
   "metadata": {},
   "outputs": [
    {
     "name": "stdout",
     "output_type": "stream",
     "text": [
      "+--------------------+----+------------------+------+-------------------+\n",
      "|                 oid|link|            vspeed|vcount|               Time|\n",
      "+--------------------+----+------------------+------+-------------------+\n",
      "|663c97107418a0332...|N1I1|              25.0|     2|2024-05-09 12:27:55|\n",
      "|663c9725c4f83968b...|N1I1|              27.5|     4|2024-05-09 12:27:55|\n",
      "|663c9729c4f83968b...|N1I1|              26.0|     5|2024-05-09 12:27:55|\n",
      "|663c972bc4f83968b...|N1I1|26.666666666666668|     6|2024-05-09 12:27:55|\n",
      "|663c9730c4f83968b...|N1I1|27.142857142857142|     7|2024-05-09 12:27:55|\n",
      "|663c9734c4f83968b...|I1S1|              20.0|     1|2024-05-09 12:28:34|\n",
      "|663c9735c4f83968b...|N1I1|27.142857142857142|     7|2024-05-09 12:27:55|\n",
      "|663c9739c4f83968b...|I1S1|              25.0|     2|2024-05-09 12:28:34|\n",
      "|663c973ac4f83968b...|N1I1|27.142857142857142|     7|2024-05-09 12:27:55|\n",
      "|663c973ec4f83968b...|I1S1|26.666666666666668|     3|2024-05-09 12:28:34|\n",
      "|663c973fc4f83968b...|N1I1|27.142857142857142|     7|2024-05-09 12:27:55|\n",
      "+--------------------+----+------------------+------+-------------------+\n",
      "\n"
     ]
    }
   ],
   "source": [
    "df1.show(50)"
   ]
  },
  {
   "cell_type": "code",
   "execution_count": null,
   "id": "2808e081-c47c-47d6-a397-8e6eb1bea1b3",
   "metadata": {},
   "outputs": [],
   "source": []
  },
  {
   "cell_type": "code",
   "execution_count": null,
   "id": "2616d28e-afc7-4afd-a91f-0038e47dea65",
   "metadata": {},
   "outputs": [],
   "source": []
  }
 ],
 "metadata": {
  "kernelspec": {
   "display_name": "Python 3 (ipykernel)",
   "language": "python",
   "name": "python3"
  },
  "language_info": {
   "codemirror_mode": {
    "name": "ipython",
    "version": 3
   },
   "file_extension": ".py",
   "mimetype": "text/x-python",
   "name": "python",
   "nbconvert_exporter": "python",
   "pygments_lexer": "ipython3",
   "version": "3.11.3"
  }
 },
 "nbformat": 4,
 "nbformat_minor": 5
}
