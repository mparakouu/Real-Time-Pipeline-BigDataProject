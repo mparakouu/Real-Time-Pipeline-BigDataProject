{
 "cells": [
  {
   "cell_type": "code",
   "execution_count": 12,
   "id": "0611dc55-a4d4-4c56-acd1-bf2f62907a10",
   "metadata": {},
   "outputs": [],
   "source": [
    "import findspark\n",
    "findspark.init()"
   ]
  },
  {
   "cell_type": "code",
   "execution_count": 13,
   "id": "6f68f8de-6c07-4178-b84e-f36216a7f8be",
   "metadata": {},
   "outputs": [],
   "source": [
    "import pyspark\n",
    "from pyspark.sql import SparkSession"
   ]
  },
  {
   "cell_type": "code",
   "execution_count": 35,
   "id": "c54e3d71-a41a-43bc-982f-b7e82888f5cc",
   "metadata": {},
   "outputs": [
    {
     "name": "stderr",
     "output_type": "stream",
     "text": [
      "24/05/07 16:24:19 WARN SparkSession: Using an existing Spark session; only runtime SQL configurations will take effect.\n"
     ]
    }
   ],
   "source": [
    "spark = SparkSession.builder \\\n",
    "    .appName(\"VehiclesDataFromKafka\") \\\n",
    "    .config(\"spark.jars.packages\",\"org.mongodb.spark:mongo-spark-connector_2.12:3.0.1\") \\\n",
    "    .config(\"spark.driver.memory\", \"40g\") \\\n",
    "    .config(\"spark.executor.memory\", \"50g\") \\\n",
    "    .getOrCreate()"
   ]
  },
  {
   "cell_type": "code",
   "execution_count": 15,
   "id": "683e0553-6821-4ff0-92ac-0c69c66c83be",
   "metadata": {},
   "outputs": [
    {
     "data": {
      "text/html": [
       "\n",
       "            <div>\n",
       "                <p><b>SparkSession - in-memory</b></p>\n",
       "                \n",
       "        <div>\n",
       "            <p><b>SparkContext</b></p>\n",
       "\n",
       "            <p><a href=\"http://192.168.1.20:4047\">Spark UI</a></p>\n",
       "\n",
       "            <dl>\n",
       "              <dt>Version</dt>\n",
       "                <dd><code>v3.5.1</code></dd>\n",
       "              <dt>Master</dt>\n",
       "                <dd><code>local[*]</code></dd>\n",
       "              <dt>AppName</dt>\n",
       "                <dd><code>pyspark-shell</code></dd>\n",
       "            </dl>\n",
       "        </div>\n",
       "        \n",
       "            </div>\n",
       "        "
      ],
      "text/plain": [
       "<pyspark.sql.session.SparkSession at 0x108583550>"
      ]
     },
     "execution_count": 15,
     "metadata": {},
     "output_type": "execute_result"
    }
   ],
   "source": [
    "spark"
   ]
  },
  {
   "cell_type": "code",
   "execution_count": 16,
   "id": "25e33db6-8166-43c3-899e-bb4499563792",
   "metadata": {},
   "outputs": [
    {
     "name": "stderr",
     "output_type": "stream",
     "text": [
      "                                                                                \r"
     ]
    }
   ],
   "source": [
    "TheDataframe = spark.read.csv(\"/Users/georgiamparakou/Desktop/BigData_project/vehicles_data.csv\" , inferSchema = True , header = True) "
   ]
  },
  {
   "cell_type": "code",
   "execution_count": 18,
   "id": "7dc5b471-e3b2-4d30-9a6e-cb635b404dc8",
   "metadata": {},
   "outputs": [
    {
     "name": "stdout",
     "output_type": "stream",
     "text": [
      "+----+---+----+----+---+--------+-----+-----+----+\n",
      "|name| dn|orig|dest|  t|    link|    x|    s|   v|\n",
      "+----+---+----+----+---+--------+-----+-----+----+\n",
      "|   0|  5|  N1|  S1| 20|    N1I1|  0.0|125.0|30.0|\n",
      "|   0|  5|  N1|  S1| 25|    N1I1|100.0|175.0|20.0|\n",
      "|   0|  5|  N1|  S1| 30|    N1I1|250.0|175.0|30.0|\n",
      "|   0|  5|  N1|  S1| 35|    N1I1|400.0| -1.0|30.0|\n",
      "|   0|  5|  N1|  S1| 40|    I1S1| 50.0| -1.0|20.0|\n",
      "|   0|  5|  N1|  S1| 45|    I1S1|200.0| -1.0|30.0|\n",
      "|   0|  5|  N1|  S1| 50|    I1S1|350.0| -1.0|30.0|\n",
      "|   0|  5|  N1|  S1| 50|trip_end| -1.0| -1.0|-1.0|\n",
      "|   1|  5|  S2|  N2| 20|    S2I2|  0.0|125.0|30.0|\n",
      "|   1|  5|  S2|  N2| 25|    S2I2|100.0|175.0|20.0|\n",
      "+----+---+----+----+---+--------+-----+-----+----+\n",
      "only showing top 10 rows\n",
      "\n"
     ]
    }
   ],
   "source": [
    "TheDataframe.show(10)"
   ]
  },
  {
   "cell_type": "code",
   "execution_count": 19,
   "id": "eedf9e6e-718e-4c51-baec-c26b48c3b36b",
   "metadata": {},
   "outputs": [],
   "source": [
    "import pandas as pd"
   ]
  },
  {
   "cell_type": "code",
   "execution_count": 20,
   "id": "c6a75475-e507-4d57-97a4-dd842f2d691d",
   "metadata": {},
   "outputs": [
    {
     "name": "stderr",
     "output_type": "stream",
     "text": [
      "                                                                                \r"
     ]
    }
   ],
   "source": [
    "json_data = TheDataframe.toJSON().collect()\n"
   ]
  },
  {
   "cell_type": "code",
   "execution_count": 36,
   "id": "9e9332f0-49c9-4d88-9a1d-499e240709c1",
   "metadata": {},
   "outputs": [
    {
     "name": "stdout",
     "output_type": "stream",
     "text": [
      "{\"name\":0,\"dn\":5,\"orig\":\"N1\",\"dest\":\"S1\",\"t\":20,\"link\":\"N1I1\",\"x\":0.0,\"s\":125.0,\"v\":30.0}\n",
      "{\"name\":0,\"dn\":5,\"orig\":\"N1\",\"dest\":\"S1\",\"t\":25,\"link\":\"N1I1\",\"x\":100.0,\"s\":175.0,\"v\":20.0}\n",
      "{\"name\":0,\"dn\":5,\"orig\":\"N1\",\"dest\":\"S1\",\"t\":30,\"link\":\"N1I1\",\"x\":250.0,\"s\":175.0,\"v\":30.0}\n",
      "{\"name\":0,\"dn\":5,\"orig\":\"N1\",\"dest\":\"S1\",\"t\":35,\"link\":\"N1I1\",\"x\":400.0,\"s\":-1.0,\"v\":30.0}\n",
      "{\"name\":0,\"dn\":5,\"orig\":\"N1\",\"dest\":\"S1\",\"t\":40,\"link\":\"I1S1\",\"x\":50.0,\"s\":-1.0,\"v\":20.0}\n",
      "{\"name\":0,\"dn\":5,\"orig\":\"N1\",\"dest\":\"S1\",\"t\":45,\"link\":\"I1S1\",\"x\":200.0,\"s\":-1.0,\"v\":30.0}\n",
      "{\"name\":0,\"dn\":5,\"orig\":\"N1\",\"dest\":\"S1\",\"t\":50,\"link\":\"I1S1\",\"x\":350.0,\"s\":-1.0,\"v\":30.0}\n",
      "{\"name\":0,\"dn\":5,\"orig\":\"N1\",\"dest\":\"S1\",\"t\":50,\"link\":\"trip_end\",\"x\":-1.0,\"s\":-1.0,\"v\":-1.0}\n",
      "{\"name\":1,\"dn\":5,\"orig\":\"S2\",\"dest\":\"N2\",\"t\":20,\"link\":\"S2I2\",\"x\":0.0,\"s\":125.0,\"v\":30.0}\n",
      "{\"name\":1,\"dn\":5,\"orig\":\"S2\",\"dest\":\"N2\",\"t\":25,\"link\":\"S2I2\",\"x\":100.0,\"s\":175.0,\"v\":20.0}\n"
     ]
    }
   ],
   "source": [
    "for row in json_data[:10]:\n",
    "    print(row)"
   ]
  },
  {
   "cell_type": "code",
   "execution_count": 37,
   "id": "cb87f4fa-a2f1-4515-8e30-d1d75b997bec",
   "metadata": {},
   "outputs": [
    {
     "ename": "NameError",
     "evalue": "name 'vehicles_df' is not defined",
     "output_type": "error",
     "traceback": [
      "\u001b[0;31m---------------------------------------------------------------------------\u001b[0m",
      "\u001b[0;31mNameError\u001b[0m                                 Traceback (most recent call last)",
      "Cell \u001b[0;32mIn[37], line 2\u001b[0m\n\u001b[1;32m      1\u001b[0m mongo_uri \u001b[38;5;241m=\u001b[39m \u001b[38;5;124m\"\u001b[39m\u001b[38;5;124mmongodb://localhost:27017/MyVehiclesData.vehiclesData\u001b[39m\u001b[38;5;124m\"\u001b[39m\n\u001b[0;32m----> 2\u001b[0m \u001b[43mvehicles_df\u001b[49m\u001b[38;5;241m.\u001b[39mwrite\u001b[38;5;241m.\u001b[39mformat(\u001b[38;5;124m\"\u001b[39m\u001b[38;5;124mcom.mongodb.spark.sql.DefaultSource\u001b[39m\u001b[38;5;124m\"\u001b[39m)\u001b[38;5;241m.\u001b[39mmode(\u001b[38;5;124m\"\u001b[39m\u001b[38;5;124mappend\u001b[39m\u001b[38;5;124m\"\u001b[39m)\u001b[38;5;241m.\u001b[39msave(mongo_uri)\n",
      "\u001b[0;31mNameError\u001b[0m: name 'vehicles_df' is not defined"
     ]
    }
   ],
   "source": [
    "mongo_uri = \"mongodb://localhost:27017/MyVehiclesData.vehiclesData\"\n",
    "TheDataframe.write.format(\"com.mongodb.spark.sql.DefaultSource\").mode(\"append\").save(mongo_uri)"
   ]
  },
  {
   "cell_type": "code",
   "execution_count": null,
   "id": "56da0cae-bdd5-4e33-939d-92c333ec7baa",
   "metadata": {},
   "outputs": [],
   "source": []
  }
 ],
 "metadata": {
  "kernelspec": {
   "display_name": "Python 3 (ipykernel)",
   "language": "python",
   "name": "python3"
  },
  "language_info": {
   "codemirror_mode": {
    "name": "ipython",
    "version": 3
   },
   "file_extension": ".py",
   "mimetype": "text/x-python",
   "name": "python",
   "nbconvert_exporter": "python",
   "pygments_lexer": "ipython3",
   "version": "3.11.3"
  }
 },
 "nbformat": 4,
 "nbformat_minor": 5
}
