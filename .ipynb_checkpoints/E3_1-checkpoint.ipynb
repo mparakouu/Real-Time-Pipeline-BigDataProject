{
 "cells": [
  {
   "cell_type": "code",
   "execution_count": 7,
   "id": "2305ec67-e41c-4987-b3d7-2b1830adacca",
   "metadata": {},
   "outputs": [],
   "source": [
    "from pymongo import MongoClient"
   ]
  },
  {
   "cell_type": "code",
   "execution_count": 8,
   "id": "60f59be1-1a81-4a93-b771-0455ca545049",
   "metadata": {},
   "outputs": [],
   "source": [
    "client = MongoClient('localhost', 27017)\n",
    "db = client['MyVehiclesData']\n",
    "collection = db['ProcessedVehiclesData']"
   ]
  },
  {
   "cell_type": "code",
   "execution_count": 9,
   "id": "4344362e-4a0a-45c6-8d3a-eba9bb446695",
   "metadata": {},
   "outputs": [],
   "source": [
    "start = \"2024-05-01 00:00:00\"\n",
    "end = \"2024-05-07 23:59:59\""
   ]
  },
  {
   "cell_type": "code",
   "execution_count": 10,
   "id": "8b85d7b3-7dc0-49dd-88a4-c7720f0ee523",
   "metadata": {},
   "outputs": [],
   "source": [
    "pipeline = [\n",
    "    {\"$match\": {\"Time\": {\"$gte\": start, \"$lte\": end}}},\n",
    "    {\"$sort\": {\"vcount\": 1}},\n",
    "    {\"$limit\": 1}\n",
    "]"
   ]
  },
  {
   "cell_type": "code",
   "execution_count": 11,
   "id": "07789bb0-f552-472c-b177-ca808e1ab089",
   "metadata": {},
   "outputs": [],
   "source": [
    "result = collection.aggregate(pipeline)"
   ]
  },
  {
   "cell_type": "code",
   "execution_count": 12,
   "id": "0335c1c5-18a6-4693-95e5-222ff22100e0",
   "metadata": {},
   "outputs": [
    {
     "name": "stdout",
     "output_type": "stream",
     "text": [
      "Η ακμή/link μικρότερο πλήθος οχημάτων/vcount μεταξύ start και end χρόνου είναι:\n",
      "{'_id': ObjectId('663b491a65c3f13810a4d934'), 'link': 'I4N4', 'vcount': 111, 'vspeed': 24.864864864864863, 'Time': '2024-05-07 18:40:35'}\n"
     ]
    }
   ],
   "source": [
    "for doc in result:\n",
    "    print(\"Η ακμή/link μικρότερο πλήθος οχημάτων/vcount μεταξύ start και end χρόνου είναι:\")\n",
    "    print(doc)"
   ]
  },
  {
   "cell_type": "code",
   "execution_count": null,
   "id": "1a3e6b54-ca00-4e08-b217-589ff350100d",
   "metadata": {},
   "outputs": [],
   "source": []
  },
  {
   "cell_type": "code",
   "execution_count": null,
   "id": "d3057baa-bc32-40d1-a965-e64326abc232",
   "metadata": {},
   "outputs": [],
   "source": []
  }
 ],
 "metadata": {
  "kernelspec": {
   "display_name": "Python 3 (ipykernel)",
   "language": "python",
   "name": "python3"
  },
  "language_info": {
   "codemirror_mode": {
    "name": "ipython",
    "version": 3
   },
   "file_extension": ".py",
   "mimetype": "text/x-python",
   "name": "python",
   "nbconvert_exporter": "python",
   "pygments_lexer": "ipython3",
   "version": "3.11.3"
  }
 },
 "nbformat": 4,
 "nbformat_minor": 5
}
