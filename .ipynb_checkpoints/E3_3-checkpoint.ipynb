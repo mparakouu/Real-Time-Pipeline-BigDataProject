{
 "cells": [
  {
   "cell_type": "code",
   "execution_count": 67,
   "id": "b71bafe2-bc01-4a2c-8ee0-a9588f2b4084",
   "metadata": {},
   "outputs": [],
   "source": [
    "from pymongo import MongoClient\n",
    "from datetime import datetime\n"
   ]
  },
  {
   "cell_type": "code",
   "execution_count": 68,
   "id": "f2c09e71-eb31-428e-a1e7-040b8a267ec1",
   "metadata": {},
   "outputs": [],
   "source": [
    "client = MongoClient('localhost', 27017)\n",
    "db = client['MyVehiclesData']\n",
    "collection3 = db['RawVehiclesData']"
   ]
  },
  {
   "cell_type": "code",
   "execution_count": 69,
   "id": "1fba62b8-f87d-4bbe-a98a-3a163cd992d6",
   "metadata": {},
   "outputs": [],
   "source": [
    "start_date = datetime(2020, 2, 10, 0, 0, 0)\n",
    "end_date = datetime(2024, 6, 30, 23, 59, 59)"
   ]
  },
  {
   "cell_type": "code",
   "execution_count": 70,
   "id": "fd83dbad-c473-4881-9e6e-bc9c394d09c6",
   "metadata": {},
   "outputs": [],
   "source": [
    "pipeline3 = [\n",
    "    {\"$sort\": {\"time\": 1}},\n",
    "    {\"$group\": {\n",
    "        \"_id\": \"$oid\",  # Χρησιμοποιήστε το \"_id\" ως \"_id\" για την πρώτη αναγωγή\n",
    "        \"first_occurrence\": {\"$min\": \"$time\"},\n",
    "        \"end_trip_time\": {\"$min\": {\"$cond\": [{\"$eq\": [\"$link\", \"trip_end\"]}, \"$time\", None]}},\n",
    "        \"records\": {\"$push\": \"$$ROOT\"}\n",
    "    }},\n",
    "    {\"$match\": {\"end_trip_time\": {\"$ne\": None}}},\n",
    "    {\"$group\": {\n",
    "        \"_id\": \"$_id\",\n",
    "        \"first_occurrence\": {\"$first\": \"$first_occurrence\"},\n",
    "        \"end_trip_time\": {\"$first\": \"$end_trip_time\"},\n",
    "        \"records\": {\"$first\": \"$records\"}\n",
    "    }},\n",
    "    {\"$project\": {\n",
    "        \"oid\": \"$_id\",  # Αντιστοίχιση του \"_id\" στο \"oid\"\n",
    "        \"start_time\": {\"$toDate\": \"$first_occurrence\"},\n",
    "        \"end_time\": {\"$toDate\": \"$end_trip_time\"},\n",
    "        \"duration\": {\"$subtract\": [\n",
    "            {\"$toDate\": \"$end_trip_time\"},\n",
    "            {\"$toDate\": \"$first_occurrence\"}\n",
    "        ]},\n",
    "        \"link\": \"trip_end\"\n",
    "    }},\n",
    "    {\"$sort\": {\"duration\": -1}},\n",
    "    {\"$limit\": 1}\n",
    "]\n"
   ]
  },
  {
   "cell_type": "code",
   "execution_count": 71,
   "id": "7a0520a6-6b35-40c1-aad8-964ecf79ffba",
   "metadata": {},
   "outputs": [],
   "source": [
    "result3 = list(collection3.aggregate(pipeline3))"
   ]
  },
  {
   "cell_type": "code",
   "execution_count": 72,
   "id": "98c4e4ca-4d71-4074-8ce5-3ad29addafda",
   "metadata": {
    "scrolled": true
   },
   "outputs": [
    {
     "name": "stdout",
     "output_type": "stream",
     "text": [
      "Longest Trip:\n",
      "{'_id': None, 'oid': None, 'start_time': datetime.datetime(2024, 6, 28, 16, 19, 18), 'end_time': datetime.datetime(2024, 6, 28, 16, 19, 43), 'duration': 25000, 'link': 'trip_end'}\n"
     ]
    }
   ],
   "source": [
    "if result3:\n",
    "    longest_trip = result3[0]\n",
    "    print(\"Longest Trip:\")\n",
    "    print(longest_trip)  \n",
    "else:\n",
    "    print(\"No trips found\")"
   ]
  },
  {
   "cell_type": "code",
   "execution_count": null,
   "id": "cd25266f-3fcc-4fd2-994a-a5424b8d9552",
   "metadata": {},
   "outputs": [],
   "source": []
  },
  {
   "cell_type": "code",
   "execution_count": null,
   "id": "459d270b-8325-4e6a-99f0-3f4b44e3a83b",
   "metadata": {},
   "outputs": [],
   "source": []
  },
  {
   "cell_type": "code",
   "execution_count": null,
   "id": "b82b0823-3c50-4156-bc12-f04c766ada7f",
   "metadata": {},
   "outputs": [],
   "source": []
  }
 ],
 "metadata": {
  "kernelspec": {
   "display_name": "Python 3 (ipykernel)",
   "language": "python",
   "name": "python3"
  },
  "language_info": {
   "codemirror_mode": {
    "name": "ipython",
    "version": 3
   },
   "file_extension": ".py",
   "mimetype": "text/x-python",
   "name": "python",
   "nbconvert_exporter": "python",
   "pygments_lexer": "ipython3",
   "version": "3.11.3"
  }
 },
 "nbformat": 4,
 "nbformat_minor": 5
}
