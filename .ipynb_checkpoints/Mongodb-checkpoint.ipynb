{
 "cells": [
  {
   "cell_type": "code",
   "execution_count": 1,
   "id": "4470ebc8-6122-45f4-bd64-8fc5298abad1",
   "metadata": {},
   "outputs": [],
   "source": [
    "import pyspark\n",
    "from pyspark import SparkContext\n",
    "from pyspark.sql import SparkSession\n",
    "from pyspark.sql import SQLContext"
   ]
  },
  {
   "cell_type": "code",
   "execution_count": 2,
   "id": "2d268839-756b-4d5a-8b97-e0ca49cae3c6",
   "metadata": {},
   "outputs": [
    {
     "name": "stdout",
     "output_type": "stream",
     "text": [
      "3.5.1\n"
     ]
    }
   ],
   "source": [
    "print(pyspark.__version__)"
   ]
  },
  {
   "cell_type": "code",
   "execution_count": 3,
   "id": "54e6a631-d786-4258-acc7-281ccddc6456",
   "metadata": {},
   "outputs": [],
   "source": [
    "conf = pyspark.SparkConf().set(\"spark.jars.packages\",\"org.mongodb.spark:mongo-spark-connector_2.12:3.0.1\").setMaster(\"local\").setAppName(\"VehiclesDataFromKafka\").setAll([(\"spark.driver.memory\" , \"40g\") , (\"spark.executor.memory\" , \"50g\")])  "
   ]
  },
  {
   "cell_type": "code",
   "execution_count": 4,
   "id": "b07f624e-f38b-4646-b3bc-1c3e95301c40",
   "metadata": {},
   "outputs": [
    {
     "name": "stdout",
     "output_type": "stream",
     "text": [
      ":: loading settings :: url = jar:file:/Library/Frameworks/Python.framework/Versions/3.11/lib/python3.11/site-packages/pyspark/jars/ivy-2.5.1.jar!/org/apache/ivy/core/settings/ivysettings.xml\n"
     ]
    },
    {
     "name": "stderr",
     "output_type": "stream",
     "text": [
      "Ivy Default Cache set to: /Users/georgiamparakou/.ivy2/cache\n",
      "The jars for the packages stored in: /Users/georgiamparakou/.ivy2/jars\n",
      "org.mongodb.spark#mongo-spark-connector_2.12 added as a dependency\n",
      ":: resolving dependencies :: org.apache.spark#spark-submit-parent-0408ace2-f0af-409f-8d21-b2859ace85b6;1.0\n",
      "\tconfs: [default]\n",
      "\tfound org.mongodb.spark#mongo-spark-connector_2.12;3.0.1 in central\n",
      "\tfound org.mongodb#mongodb-driver-sync;4.0.5 in central\n",
      "\tfound org.mongodb#bson;4.0.5 in central\n",
      "\tfound org.mongodb#mongodb-driver-core;4.0.5 in central\n",
      ":: resolution report :: resolve 110ms :: artifacts dl 5ms\n",
      "\t:: modules in use:\n",
      "\torg.mongodb#bson;4.0.5 from central in [default]\n",
      "\torg.mongodb#mongodb-driver-core;4.0.5 from central in [default]\n",
      "\torg.mongodb#mongodb-driver-sync;4.0.5 from central in [default]\n",
      "\torg.mongodb.spark#mongo-spark-connector_2.12;3.0.1 from central in [default]\n",
      "\t---------------------------------------------------------------------\n",
      "\t|                  |            modules            ||   artifacts   |\n",
      "\t|       conf       | number| search|dwnlded|evicted|| number|dwnlded|\n",
      "\t---------------------------------------------------------------------\n",
      "\t|      default     |   4   |   0   |   0   |   0   ||   4   |   0   |\n",
      "\t---------------------------------------------------------------------\n",
      ":: retrieving :: org.apache.spark#spark-submit-parent-0408ace2-f0af-409f-8d21-b2859ace85b6\n",
      "\tconfs: [default]\n",
      "\t0 artifacts copied, 4 already retrieved (0kB/3ms)\n",
      "24/05/07 15:21:50 WARN NativeCodeLoader: Unable to load native-hadoop library for your platform... using builtin-java classes where applicable\n",
      "Setting default log level to \"WARN\".\n",
      "To adjust logging level use sc.setLogLevel(newLevel). For SparkR, use setLogLevel(newLevel).\n",
      "24/05/07 15:21:51 WARN Utils: Service 'SparkUI' could not bind on port 4040. Attempting port 4041.\n"
     ]
    }
   ],
   "source": [
    "sc = SparkContext(conf=conf)"
   ]
  },
  {
   "cell_type": "code",
   "execution_count": 5,
   "id": "953ebf86-f743-4bf7-bfe0-2d92e38e3332",
   "metadata": {},
   "outputs": [
    {
     "name": "stderr",
     "output_type": "stream",
     "text": [
      "/Library/Frameworks/Python.framework/Versions/3.11/lib/python3.11/site-packages/pyspark/sql/context.py:113: FutureWarning: Deprecated in 3.0.0. Use SparkSession.builder.getOrCreate() instead.\n",
      "  warnings.warn(\n"
     ]
    }
   ],
   "source": [
    "sqlC = SQLContext(sc)"
   ]
  },
  {
   "cell_type": "code",
   "execution_count": 6,
   "id": "327ed5f8-fb37-4d53-8943-51baea92ace4",
   "metadata": {},
   "outputs": [],
   "source": [
    "mongo_address = \"mongodb://localhost:27017/MyVehiclesData.\""
   ]
  },
  {
   "cell_type": "code",
   "execution_count": 7,
   "id": "c6454024-35c4-4c4f-9c77-34eed7e6d6d6",
   "metadata": {},
   "outputs": [
    {
     "name": "stdout",
     "output_type": "stream",
     "text": [
      "mongodb://localhost:27017/MyVehiclesData.\n"
     ]
    }
   ],
   "source": [
    "print(mongo_address)"
   ]
  },
  {
   "cell_type": "code",
   "execution_count": 8,
   "id": "8306104f-f7e5-4682-90dd-1619ccf16020",
   "metadata": {},
   "outputs": [],
   "source": [
    "vehiclesData = sqlC.read.format(\"com.mongodb.spark.sql.DefaultSource\").option(\"uri\" , mongo_address + \"vehiclesData\").load() "
   ]
  },
  {
   "cell_type": "code",
   "execution_count": 9,
   "id": "20ee3139-f370-4d7f-9a4f-55dc28da2872",
   "metadata": {},
   "outputs": [],
   "source": [
    "vehiclesData.createOrReplaceTempView(\"vehiclesData\")"
   ]
  },
  {
   "cell_type": "code",
   "execution_count": 10,
   "id": "1ac090e4-cc00-4edb-8fe9-485d8ebd4750",
   "metadata": {},
   "outputs": [],
   "source": [
    "vehiclesData = sqlC.sql(\"SELECT * FROM vehiclesData\")"
   ]
  },
  {
   "cell_type": "code",
   "execution_count": 11,
   "id": "d841ecc5-1f65-4097-8fd7-8bba7e454398",
   "metadata": {},
   "outputs": [
    {
     "name": "stdout",
     "output_type": "stream",
     "text": [
      "++\n",
      "||\n",
      "++\n",
      "++\n",
      "\n"
     ]
    }
   ],
   "source": [
    "vehiclesData.show()"
   ]
  }
 ],
 "metadata": {
  "kernelspec": {
   "display_name": "Python 3 (ipykernel)",
   "language": "python",
   "name": "python3"
  },
  "language_info": {
   "codemirror_mode": {
    "name": "ipython",
    "version": 3
   },
   "file_extension": ".py",
   "mimetype": "text/x-python",
   "name": "python",
   "nbconvert_exporter": "python",
   "pygments_lexer": "ipython3",
   "version": "3.11.3"
  }
 },
 "nbformat": 4,
 "nbformat_minor": 5
}
