{
 "cells": [
  {
   "cell_type": "code",
   "execution_count": 4,
   "id": "dc841608-9a6b-4f32-88de-ffb230a27630",
   "metadata": {},
   "outputs": [
    {
     "ename": "NameError",
     "evalue": "name 'json_to_dataframe' is not defined",
     "output_type": "error",
     "traceback": [
      "\u001b[0;31m---------------------------------------------------------------------------\u001b[0m",
      "\u001b[0;31mNameError\u001b[0m                                 Traceback (most recent call last)",
      "Cell \u001b[0;32mIn[4], line 2\u001b[0m\n\u001b[1;32m      1\u001b[0m \u001b[38;5;66;03m# Εκτύπωση του DataFrame\u001b[39;00m\n\u001b[0;32m----> 2\u001b[0m \u001b[43mjson_to_dataframe\u001b[49m\u001b[38;5;241m.\u001b[39mshow()\n",
      "\u001b[0;31mNameError\u001b[0m: name 'json_to_dataframe' is not defined"
     ]
    }
   ],
   "source": [
    "from pyspark.sql import SparkSession\n",
    "\n",
    "# Δημιουργία ενός SparkSession\n",
    "spark = SparkSession.builder \\\n",
    "    .appName(\"VehiclesDataFromKafka\") \\\n",
    "    .getOrCreate()\n",
    "\n",
    "\n",
    "# Εκτύπωση του DataFrame\n",
    "json_to_dataframe.show()\n"
   ]
  },
  {
   "cell_type": "code",
   "execution_count": null,
   "id": "95b4d5d4-1587-4591-b78a-a88209460b34",
   "metadata": {},
   "outputs": [],
   "source": []
  }
 ],
 "metadata": {
  "kernelspec": {
   "display_name": "Python 3 (ipykernel)",
   "language": "python",
   "name": "python3"
  },
  "language_info": {
   "codemirror_mode": {
    "name": "ipython",
    "version": 3
   },
   "file_extension": ".py",
   "mimetype": "text/x-python",
   "name": "python",
   "nbconvert_exporter": "python",
   "pygments_lexer": "ipython3",
   "version": "3.11.3"
  }
 },
 "nbformat": 4,
 "nbformat_minor": 5
}
