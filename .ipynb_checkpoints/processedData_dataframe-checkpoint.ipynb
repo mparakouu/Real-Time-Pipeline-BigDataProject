{
 "cells": [
  {
   "cell_type": "code",
   "execution_count": 12,
   "id": "fd300c35-960d-4ef8-98c5-f0153839ba37",
   "metadata": {},
   "outputs": [],
   "source": [
    "import findspark\n",
    "findspark.init()"
   ]
  },
  {
   "cell_type": "code",
   "execution_count": 13,
   "id": "ff622705-90e7-446a-891a-08213ccd22eb",
   "metadata": {},
   "outputs": [],
   "source": [
    "from pyspark.sql import SparkSession"
   ]
  },
  {
   "cell_type": "code",
   "execution_count": 14,
   "id": "42e172b2-8699-4d3f-82ca-7d03f28612b2",
   "metadata": {},
   "outputs": [],
   "source": [
    "spark = SparkSession.builder \\\n",
    "    .appName(\"pyspark_notebook1\") \\\n",
    "    .master(\"local[*]\") \\\n",
    "    .config(\"spark.executor.memory\", \"1g\") \\\n",
    "    .config(\"spark.mongodb.input.uri\", \"mongodb://localhost:27017\") \\\n",
    "    .config(\"spark.mongodb.output.uri\", \"mongodb://localhost:27017\") \\\n",
    "    .config(\"spark.mongodb.input.database\", \"MyVehiclesData\") \\\n",
    "    .config(\"spark.mongodb.input.collection\", \"ProcessedVehiclesData\") \\\n",
    "    .config(\"spark.jars.packages\", \"org.mongodb.spark:mongo-spark-connector_2.12:3.0.1\") \\\n",
    "    .getOrCreate()"
   ]
  },
  {
   "cell_type": "code",
   "execution_count": 15,
   "id": "5d0d5c4a-ca00-499f-ae56-50f9259646f6",
   "metadata": {},
   "outputs": [],
   "source": [
    "from pyspark.sql.types import StructType, StructField, StringType, DoubleType, TimestampType, LongType"
   ]
  },
  {
   "cell_type": "code",
   "execution_count": 16,
   "id": "7616aade-eb16-4239-9577-3b0c2043acdd",
   "metadata": {},
   "outputs": [],
   "source": [
    "custom_schema1 = StructType([\n",
    "    StructField(\"_id\", StructType([StructField(\"oid\", StringType(), nullable=True)]), nullable=True),\n",
    "    StructField(\"link\", StringType(), nullable=True),\n",
    "    StructField(\"vcount\", LongType(), nullable=True),\n",
    "    StructField(\"vspeed\", DoubleType(), nullable=True),\n",
    "    StructField(\"Time\", TimestampType(), nullable=True)\n",
    "])"
   ]
  },
  {
   "cell_type": "code",
   "execution_count": 17,
   "id": "d31dc801-8d1b-4234-b4f1-1cc421c531a2",
   "metadata": {},
   "outputs": [],
   "source": [
    "df1 = spark.read.format(\"com.mongodb.spark.sql.DefaultSource\") \\\n",
    "            .option(\"uri\", \"mongodb://127.0.0.1:27017/MyVehiclesData.ProcessedVehiclesData\") \\\n",
    "            .load()\n"
   ]
  },
  {
   "cell_type": "code",
   "execution_count": 18,
   "id": "1265cfb7-b4b9-40ae-957e-943841a2543f",
   "metadata": {},
   "outputs": [
    {
     "name": "stdout",
     "output_type": "stream",
     "text": [
      "root\n",
      " |-- Time: string (nullable = true)\n",
      " |-- _id: struct (nullable = true)\n",
      " |    |-- oid: string (nullable = true)\n",
      " |-- link: string (nullable = true)\n",
      " |-- vcount: long (nullable = true)\n",
      " |-- vspeed: double (nullable = true)\n",
      "\n"
     ]
    }
   ],
   "source": [
    "df1.printSchema()"
   ]
  },
  {
   "cell_type": "code",
   "execution_count": 19,
   "id": "0d50269a-a744-4a46-871b-0dcef67e3d00",
   "metadata": {},
   "outputs": [],
   "source": [
    "from pyspark.sql.functions import col, to_timestamp"
   ]
  },
  {
   "cell_type": "code",
   "execution_count": 20,
   "id": "9fe87efb-aee0-4d5e-8562-bf7cf6dcc2af",
   "metadata": {},
   "outputs": [],
   "source": [
    "df1 = df1.withColumn(\"Τime\", to_timestamp(col(\"time\"), \"yyyy-MM-dd HH:mm:ss\"))\n"
   ]
  },
  {
   "cell_type": "code",
   "execution_count": 21,
   "id": "fb2fa079-6334-4ebf-bddf-c26d24a27451",
   "metadata": {},
   "outputs": [],
   "source": [
    "df1 = df1.select(\"_id.oid\", \"link\", \"vspeed\", \"vcount\", \"Time\")"
   ]
  },
  {
   "cell_type": "code",
   "execution_count": 22,
   "id": "758ff4ce-698c-4171-862f-e8a7fbe4cf5b",
   "metadata": {},
   "outputs": [
    {
     "name": "stdout",
     "output_type": "stream",
     "text": [
      "+--------------------+--------------------+------------------+------+-------------------+\n",
      "|                 oid|                link|            vspeed|vcount|               Time|\n",
      "+--------------------+--------------------+------------------+------+-------------------+\n",
      "|663b491a65c3f1381...|                S4I4|19.568345323741006|   278|2024-05-07 18:39:50|\n",
      "|663b491a65c3f1381...|                I1S1|25.597014925373134|   268|2024-05-07 18:40:35|\n",
      "|663b491a65c3f1381...|                I3S3|25.137931034482758|   145|2024-05-07 18:40:35|\n",
      "|663b491a65c3f1381...|waiting_at_origin...|              -1.0|   324|2024-05-07 18:39:50|\n",
      "|663b491a65c3f1381...|                I1W1| 33.40759078818973|   202|2024-05-07 18:40:20|\n",
      "|663b491a65c3f1381...|                I2N2|25.259067357512954|   193|2024-05-07 18:40:35|\n",
      "|663b491a65c3f1381...|                N3I3| 19.80654761904762|   336|2024-05-07 18:39:50|\n",
      "|663b491a65c3f1381...|                S2I2|19.897260273972602|   438|2024-05-07 18:39:50|\n",
      "|663b491a65c3f1381...|                I3I2|23.189655172413794|   174|2024-05-07 18:40:10|\n",
      "|663b491a65c3f1381...|                N1I1|20.587326120556416|   647|2024-05-07 18:40:15|\n",
      "+--------------------+--------------------+------------------+------+-------------------+\n",
      "only showing top 10 rows\n",
      "\n"
     ]
    }
   ],
   "source": [
    "df1.show(10)"
   ]
  },
  {
   "cell_type": "code",
   "execution_count": null,
   "id": "2808e081-c47c-47d6-a397-8e6eb1bea1b3",
   "metadata": {},
   "outputs": [],
   "source": []
  }
 ],
 "metadata": {
  "kernelspec": {
   "display_name": "Python 3 (ipykernel)",
   "language": "python",
   "name": "python3"
  },
  "language_info": {
   "codemirror_mode": {
    "name": "ipython",
    "version": 3
   },
   "file_extension": ".py",
   "mimetype": "text/x-python",
   "name": "python",
   "nbconvert_exporter": "python",
   "pygments_lexer": "ipython3",
   "version": "3.11.3"
  }
 },
 "nbformat": 4,
 "nbformat_minor": 5
}
