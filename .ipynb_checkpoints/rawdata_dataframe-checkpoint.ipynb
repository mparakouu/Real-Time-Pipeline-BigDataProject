{
 "cells": [
  {
   "cell_type": "code",
   "execution_count": 38,
   "id": "3b6f96f3-c917-45d8-96ff-498d7008bf0b",
   "metadata": {},
   "outputs": [],
   "source": [
    "import findspark\n",
    "findspark.init()"
   ]
  },
  {
   "cell_type": "code",
   "execution_count": 39,
   "id": "c5c36282-6efa-484d-b461-98ba507f31ef",
   "metadata": {},
   "outputs": [],
   "source": [
    "from pyspark.sql import SparkSession\n",
    "from pyspark.sql.functions import col, to_timestamp"
   ]
  },
  {
   "cell_type": "code",
   "execution_count": 40,
   "id": "5545436a-c47a-4f1b-b3dc-cd9eac196758",
   "metadata": {},
   "outputs": [],
   "source": [
    "spark = SparkSession.builder \\\n",
    "    .appName(\"pyspark_notebook\") \\\n",
    "    .master(\"local[*]\") \\\n",
    "    .config(\"spark.executor.memory\", \"1g\") \\\n",
    "    .config(\"spark.mongodb.input.uri\", \"mongodb://localhost:27017\") \\\n",
    "    .config(\"spark.mongodb.output.uri\", \"mongodb://localhost:27017\") \\\n",
    "    .config(\"spark.mongodb.input.database\", \"MyVehiclesData\") \\\n",
    "    .config(\"spark.mongodb.input.collection\", \"RawVehiclesData\") \\\n",
    "    .config(\"spark.jars.packages\", \"org.mongodb.spark:mongo-spark-connector_2.12:3.0.1\") \\\n",
    "    .getOrCreate()"
   ]
  },
  {
   "cell_type": "code",
   "execution_count": 41,
   "id": "437258fc-8eae-4262-9cd0-3e0bfa012c13",
   "metadata": {},
   "outputs": [],
   "source": [
    "from pyspark.sql.types import StructType, StructField, StringType, DoubleType, TimestampType"
   ]
  },
  {
   "cell_type": "code",
   "execution_count": 42,
   "id": "733b3df8-2e2b-4f5c-8601-83d1fc8abe81",
   "metadata": {},
   "outputs": [],
   "source": [
    "custom_schema = StructType([\n",
    "    StructField(\"_id\", StructType([StructField(\"oid\", StringType(), nullable=True)]), nullable=True),\n",
    "    StructField(\"name\", StringType(), nullable=True),\n",
    "    StructField(\"orig\", StringType(), nullable=True),\n",
    "    StructField(\"dest\", StringType(), nullable=True),\n",
    "    StructField(\"link\", StringType(), nullable=True),\n",
    "    StructField(\"speed\", DoubleType(), nullable=True),\n",
    "    StructField(\"time\", TimestampType(), nullable=True)\n",
    "])"
   ]
  },
  {
   "cell_type": "code",
   "execution_count": 43,
   "id": "a39d93c6-536d-4f64-a738-bf028b4f0458",
   "metadata": {},
   "outputs": [],
   "source": [
    "df = spark.read.format(\"com.mongodb.spark.sql.DefaultSource\") \\\n",
    "            .option(\"uri\", \"mongodb://127.0.0.1:27017/MyVehiclesData.RawVehiclesData\") \\\n",
    "            .load()\n"
   ]
  },
  {
   "cell_type": "code",
   "execution_count": 44,
   "id": "91d7ad3e-c1ea-4915-a509-27ca4a1a83c4",
   "metadata": {},
   "outputs": [
    {
     "name": "stdout",
     "output_type": "stream",
     "text": [
      "root\n",
      " |-- _id: struct (nullable = true)\n",
      " |    |-- oid: string (nullable = true)\n",
      " |-- dest: string (nullable = true)\n",
      " |-- link: string (nullable = true)\n",
      " |-- name: string (nullable = true)\n",
      " |-- orig: string (nullable = true)\n",
      " |-- speed: double (nullable = true)\n",
      " |-- time: string (nullable = true)\n",
      "\n"
     ]
    }
   ],
   "source": [
    "df.printSchema()"
   ]
  },
  {
   "cell_type": "code",
   "execution_count": 45,
   "id": "e00f42b5-7090-4a62-8dd8-6b2793d17dcc",
   "metadata": {},
   "outputs": [],
   "source": [
    "from pyspark.sql.functions import col, to_timestamp"
   ]
  },
  {
   "cell_type": "code",
   "execution_count": 46,
   "id": "a44f822b-0081-4b14-bcf1-18c01106e211",
   "metadata": {},
   "outputs": [],
   "source": [
    "df = df.withColumn(\"time\", to_timestamp(col(\"time\"), \"yyyy-MM-dd HH:mm:ss\"))"
   ]
  },
  {
   "cell_type": "code",
   "execution_count": 47,
   "id": "6c59caf2-4b6a-4480-b498-0fc4b28fb9d9",
   "metadata": {},
   "outputs": [],
   "source": [
    "df_sorted = df.orderBy(col(\"time\"))"
   ]
  },
  {
   "cell_type": "code",
   "execution_count": 48,
   "id": "6bfe4fa5-9243-43f6-9066-d611fb88ee19",
   "metadata": {},
   "outputs": [],
   "source": [
    "df_sorted.select(\"_id.oid\", \"name\", \"orig\", \"dest\", \"link\", \"time\", \"speed\") \\\n",
    "         .dropDuplicates([\"oid\", \"name\", \"orig\", \"dest\", \"link\", \"time\", \"speed\"]) \\\n",
    "         .show(100, truncate=False)"
   ]
  },
  {
   "cell_type": "code",
   "execution_count": 49,
   "id": "562d89ea-abcc-4baa-b5b3-bc0fe5d096e4",
   "metadata": {},
   "outputs": [
    {
     "name": "stdout",
     "output_type": "stream",
     "text": [
      "+------------------------+----+----+----+--------+-------------------+-----+\n",
      "|oid                     |name|orig|dest|link    |time               |speed|\n",
      "+------------------------+----+----+----+--------+-------------------+-----+\n",
      "|667ec94ae654e4743b5215f9|0   |N1  |S1  |I1S1    |2024-06-28 17:31:52|30.0 |\n",
      "|667ec939e654e4743b5215e6|0   |N1  |S1  |N1I1    |2024-06-28 17:31:37|30.0 |\n",
      "|667ecadbf7a91f6f61214158|0   |N1  |S1  |N1I1    |2024-06-28 17:31:37|30.0 |\n",
      "|667ecadbf7a91f6f61214160|0   |N1  |S1  |I1S1    |2024-06-28 17:31:42|15.0 |\n",
      "|667ecadbf7a91f6f61214162|1   |S2  |N2  |S2I2    |2024-06-28 17:31:27|25.0 |\n",
      "|667ecadbf7a91f6f61214165|0   |N1  |S1  |N1I1    |2024-06-28 17:38:27|20.0 |\n",
      "|667ec939e654e4743b5215e7|0   |N1  |S1  |I1S1    |2024-06-28 17:31:42|15.0 |\n",
      "|667ecadbf7a91f6f61214164|1   |S2  |N2  |S2I2    |2024-06-28 17:31:22|30.0 |\n",
      "|667ecadff7a91f6f6121416e|0   |N1  |S1  |N1I1    |2024-06-28 17:38:37|30.0 |\n",
      "|667ec93fe654e4743b5215ed|0   |N1  |S1  |I1S1    |2024-06-28 17:31:47|30.0 |\n",
      "|667ecadbf7a91f6f6121415a|0   |N1  |S1  |N1I1    |2024-06-28 17:31:32|30.0 |\n",
      "|667ecadbf7a91f6f6121415b|0   |N1  |S1  |I1S1    |2024-06-28 17:31:52|30.0 |\n",
      "|667ec935e654e4743b5215e1|0   |N1  |S1  |N1I1    |2024-06-28 17:31:27|25.0 |\n",
      "|667ec935e654e4743b5215e2|0   |N1  |S1  |N1I1    |2024-06-28 17:31:22|30.0 |\n",
      "|667ec94ae654e4743b5215fa|0   |N1  |S1  |trip_end|2024-06-28 17:31:52|-1.0 |\n",
      "|667ecadbf7a91f6f6121415e|0   |N1  |S1  |I1S1    |2024-06-28 17:31:52|30.0 |\n",
      "|667ecadbf7a91f6f61214157|0   |N1  |S1  |N1I1    |2024-06-28 17:31:27|25.0 |\n",
      "|667ec945e654e4743b5215f3|0   |N1  |S1  |I1S1    |2024-06-28 17:31:52|30.0 |\n",
      "|667ecadbf7a91f6f6121415c|0   |N1  |S1  |N1I1    |2024-06-28 17:38:22|30.0 |\n",
      "|667ecadbf7a91f6f6121415d|0   |N1  |S1  |I1S1    |2024-06-28 17:31:47|30.0 |\n",
      "|667ecadbf7a91f6f61214159|0   |N1  |S1  |N1I1    |2024-06-28 17:31:22|30.0 |\n",
      "|667ec935e654e4743b5215e0|0   |N1  |S1  |N1I1    |2024-06-28 17:31:32|30.0 |\n",
      "|667ecadbf7a91f6f6121415f|0   |N1  |S1  |trip_end|2024-06-28 17:31:52|-1.0 |\n",
      "|667ecae5f7a91f6f61214177|0   |N1  |S1  |I1S1    |2024-06-28 17:38:42|20.0 |\n",
      "|667ecadbf7a91f6f61214163|0   |N1  |S1  |N1I1    |2024-06-28 17:31:22|30.0 |\n",
      "|667ecadbf7a91f6f61214161|0   |N1  |S1  |N1I1    |2024-06-28 17:31:27|25.0 |\n",
      "|667ecadff7a91f6f6121416f|0   |N1  |S1  |N1I1    |2024-06-28 17:38:32|30.0 |\n",
      "+------------------------+----+----+----+--------+-------------------+-----+\n",
      "\n"
     ]
    }
   ],
   "source": []
  },
  {
   "cell_type": "code",
   "execution_count": null,
   "id": "c80ec295-e68b-41d3-8869-52d3821a39a5",
   "metadata": {},
   "outputs": [],
   "source": []
  },
  {
   "cell_type": "code",
   "execution_count": null,
   "id": "64cbbb9d-5b5b-4720-b08d-e91a1c16ca0f",
   "metadata": {},
   "outputs": [],
   "source": []
  },
  {
   "cell_type": "code",
   "execution_count": null,
   "id": "d78cf15d-d78e-4623-bc1b-67d04618bbe5",
   "metadata": {},
   "outputs": [],
   "source": []
  }
 ],
 "metadata": {
  "kernelspec": {
   "display_name": "Python 3 (ipykernel)",
   "language": "python",
   "name": "python3"
  },
  "language_info": {
   "codemirror_mode": {
    "name": "ipython",
    "version": 3
   },
   "file_extension": ".py",
   "mimetype": "text/x-python",
   "name": "python",
   "nbconvert_exporter": "python",
   "pygments_lexer": "ipython3",
   "version": "3.11.3"
  }
 },
 "nbformat": 4,
 "nbformat_minor": 5
}
