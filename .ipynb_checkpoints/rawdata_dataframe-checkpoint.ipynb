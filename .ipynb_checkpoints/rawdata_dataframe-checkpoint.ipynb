{
 "cells": [
  {
   "cell_type": "code",
   "execution_count": 12,
   "id": "3b6f96f3-c917-45d8-96ff-498d7008bf0b",
   "metadata": {},
   "outputs": [],
   "source": [
    "import findspark\n",
    "findspark.init()"
   ]
  },
  {
   "cell_type": "code",
   "execution_count": 13,
   "id": "c5c36282-6efa-484d-b461-98ba507f31ef",
   "metadata": {},
   "outputs": [],
   "source": [
    "from pyspark.sql import SparkSession"
   ]
  },
  {
   "cell_type": "code",
   "execution_count": 14,
   "id": "5545436a-c47a-4f1b-b3dc-cd9eac196758",
   "metadata": {},
   "outputs": [],
   "source": [
    "spark = SparkSession.builder \\\n",
    "    .appName(\"pyspark_notebook\") \\\n",
    "    .master(\"local[*]\") \\\n",
    "    .config(\"spark.executor.memory\", \"1g\") \\\n",
    "    .config(\"spark.mongodb.input.uri\", \"mongodb://localhost:27017\") \\\n",
    "    .config(\"spark.mongodb.output.uri\", \"mongodb://localhost:27017\") \\\n",
    "    .config(\"spark.mongodb.input.database\", \"MyVehiclesData\") \\\n",
    "    .config(\"spark.mongodb.input.collection\", \"RawVehiclesData\") \\\n",
    "    .config(\"spark.jars.packages\", \"org.mongodb.spark:mongo-spark-connector_2.12:3.0.1\") \\\n",
    "    .getOrCreate()"
   ]
  },
  {
   "cell_type": "code",
   "execution_count": 15,
   "id": "437258fc-8eae-4262-9cd0-3e0bfa012c13",
   "metadata": {},
   "outputs": [],
   "source": [
    "from pyspark.sql.types import StructType, StructField, StringType, DoubleType, TimestampType"
   ]
  },
  {
   "cell_type": "code",
   "execution_count": 16,
   "id": "733b3df8-2e2b-4f5c-8601-83d1fc8abe81",
   "metadata": {},
   "outputs": [],
   "source": [
    "custom_schema = StructType([\n",
    "    StructField(\"_id\", StructType([StructField(\"oid\", StringType(), nullable=True)]), nullable=True),\n",
    "    StructField(\"name\", StringType(), nullable=True),\n",
    "    StructField(\"orig\", StringType(), nullable=True),\n",
    "    StructField(\"dest\", StringType(), nullable=True),\n",
    "    StructField(\"link\", StringType(), nullable=True),\n",
    "    StructField(\"speed\", DoubleType(), nullable=True),\n",
    "    StructField(\"time\", TimestampType(), nullable=True)\n",
    "])"
   ]
  },
  {
   "cell_type": "code",
   "execution_count": 17,
   "id": "a39d93c6-536d-4f64-a738-bf028b4f0458",
   "metadata": {},
   "outputs": [],
   "source": [
    "df = spark.read.format(\"com.mongodb.spark.sql.DefaultSource\") \\\n",
    "            .option(\"uri\", \"mongodb://127.0.0.1:27017/MyVehiclesData.RawVehiclesData\") \\\n",
    "            .load()\n"
   ]
  },
  {
   "cell_type": "code",
   "execution_count": 18,
   "id": "91d7ad3e-c1ea-4915-a509-27ca4a1a83c4",
   "metadata": {},
   "outputs": [
    {
     "name": "stdout",
     "output_type": "stream",
     "text": [
      "root\n",
      " |-- _id: struct (nullable = true)\n",
      " |    |-- oid: string (nullable = true)\n",
      " |-- link: string (nullable = true)\n",
      " |-- name: string (nullable = true)\n",
      " |-- speed: double (nullable = true)\n",
      " |-- time: string (nullable = true)\n",
      "\n"
     ]
    }
   ],
   "source": [
    "df.printSchema()"
   ]
  },
  {
   "cell_type": "code",
   "execution_count": 19,
   "id": "e00f42b5-7090-4a62-8dd8-6b2793d17dcc",
   "metadata": {},
   "outputs": [],
   "source": [
    "from pyspark.sql.functions import col, to_timestamp"
   ]
  },
  {
   "cell_type": "code",
   "execution_count": 20,
   "id": "a44f822b-0081-4b14-bcf1-18c01106e211",
   "metadata": {},
   "outputs": [],
   "source": [
    "df = df.withColumn(\"time\", to_timestamp(col(\"time\"), \"yyyy-MM-dd HH:mm:ss\"))"
   ]
  },
  {
   "cell_type": "code",
   "execution_count": 21,
   "id": "6bfe4fa5-9243-43f6-9066-d611fb88ee19",
   "metadata": {},
   "outputs": [],
   "source": [
    "df = df.select(\"_id.oid\", \"name\", \"orig\", \"dest\" \"link\", \"speed\", \"time\")"
   ]
  },
  {
   "cell_type": "code",
   "execution_count": 22,
   "id": "562d89ea-abcc-4baa-b5b3-bc0fe5d096e4",
   "metadata": {},
   "outputs": [
    {
     "name": "stdout",
     "output_type": "stream",
     "text": [
      "+--------------------+----+--------+-----+-------------------+\n",
      "|                 oid|name|    link|speed|               time|\n",
      "+--------------------+----+--------+-----+-------------------+\n",
      "|663bb977999a29396...|   0|    I1S1| 30.0|2024-05-08 20:42:05|\n",
      "|663bb977999a29396...|   0|    I1S1| 30.0|2024-05-08 20:42:10|\n",
      "|663bb977999a29396...|   0|    I1S1| 30.0|2024-05-08 20:42:10|\n",
      "|663bb977999a29396...|   0|trip_end| -1.0|2024-05-08 20:42:10|\n",
      "|663bb977999a29396...|   0|    N1I1| 30.0|2024-05-08 20:41:40|\n",
      "|663bb977999a29396...|   1|    S2I2| 30.0|2024-05-08 20:41:40|\n",
      "|663bb977999a29396...|   0|    N1I1| 25.0|2024-05-08 20:41:45|\n",
      "|663bb977999a29396...|   1|    S2I2| 25.0|2024-05-08 20:41:45|\n",
      "|663bb977999a29396...|   0|    N1I1| 30.0|2024-05-08 20:41:50|\n",
      "|663bb977999a29396...|   1|    S2I2| 30.0|2024-05-08 20:41:50|\n",
      "|663bb977999a29396...|   0|    N1I1| 30.0|2024-05-08 20:41:55|\n",
      "|663bb977999a29396...|   1|    S2I2| 30.0|2024-05-08 20:41:55|\n",
      "|663bb97a999a29396...|   0|    I1S1| 15.0|2024-05-08 20:42:00|\n",
      "|663bb97a999a29396...|   1|    I2N2| 15.0|2024-05-08 20:42:00|\n",
      "|663bb97d999a29396...|   0|    I1S1| 30.0|2024-05-08 20:42:05|\n",
      "|663bb97d999a29396...|   1|    I2N2| 30.0|2024-05-08 20:42:05|\n",
      "|663bb982999a29396...|   0|    I1S1| 30.0|2024-05-08 20:42:10|\n",
      "|663bb982999a29396...|   0|trip_end| -1.0|2024-05-08 20:42:10|\n",
      "|663bb982999a29396...|   1|    I2N2| 30.0|2024-05-08 20:42:10|\n",
      "|663bb987999a29396...|   0|    I1S1| 30.0|2024-05-08 20:42:10|\n",
      "+--------------------+----+--------+-----+-------------------+\n",
      "only showing top 20 rows\n",
      "\n"
     ]
    }
   ],
   "source": [
    "df.show(20)"
   ]
  },
  {
   "cell_type": "code",
   "execution_count": null,
   "id": "74132da0-8322-466c-bbf4-88f63fbbb693",
   "metadata": {},
   "outputs": [],
   "source": []
  },
  {
   "cell_type": "code",
   "execution_count": null,
   "id": "6c59caf2-4b6a-4480-b498-0fc4b28fb9d9",
   "metadata": {},
   "outputs": [],
   "source": []
  }
 ],
 "metadata": {
  "kernelspec": {
   "display_name": "Python 3 (ipykernel)",
   "language": "python",
   "name": "python3"
  },
  "language_info": {
   "codemirror_mode": {
    "name": "ipython",
    "version": 3
   },
   "file_extension": ".py",
   "mimetype": "text/x-python",
   "name": "python",
   "nbconvert_exporter": "python",
   "pygments_lexer": "ipython3",
   "version": "3.11.3"
  }
 },
 "nbformat": 4,
 "nbformat_minor": 5
}
